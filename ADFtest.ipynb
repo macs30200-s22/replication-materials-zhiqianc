{
 "cells": [
  {
   "cell_type": "code",
   "execution_count": 132,
   "id": "3812d215",
   "metadata": {},
   "outputs": [],
   "source": [
    "import pandas as pd\n",
    "import matplotlib.pyplot as plt\n",
    "import numpy as np\n",
    "data = pd.read_csv('data/data.csv',index_col=0)"
   ]
  },
  {
   "cell_type": "code",
   "execution_count": 135,
   "id": "ce694055",
   "metadata": {},
   "outputs": [],
   "source": [
    "import analysis"
   ]
  },
  {
   "cell_type": "code",
   "execution_count": 136,
   "id": "3dc1b1ba",
   "metadata": {},
   "outputs": [
    {
     "name": "stdout",
     "output_type": "stream",
     "text": [
      "ADF Statistic: -0.4159667435653719\n",
      "p-value: 0.907398576229738\n",
      "Critial Values:\n",
      "   1%, -3.7529275211638033\n",
      "Critial Values:\n",
      "   5%, -2.998499866852963\n",
      "Critial Values:\n",
      "   10%, -2.6389669754253307\n",
      "Test conclusion:\n",
      "the test rejects the null hypothesis. The series is non-stationary.\n"
     ]
    }
   ],
   "source": [
    "analysis.adf_test(data['lyrical mentions percentage'])"
   ]
  },
  {
   "cell_type": "code",
   "execution_count": 137,
   "id": "746800c3",
   "metadata": {},
   "outputs": [
    {
     "name": "stdout",
     "output_type": "stream",
     "text": [
      "ADF Statistic: -0.0136069442726193\n",
      "p-value: 0.9573922308417956\n",
      "Critial Values:\n",
      "   1%, -4.137829282407408\n",
      "Critial Values:\n",
      "   5%, -3.1549724074074077\n",
      "Critial Values:\n",
      "   10%, -2.7144769444444443\n",
      "Test conclusion:\n",
      "the test rejects the null hypothesis. The series is non-stationary.\n"
     ]
    }
   ],
   "source": [
    "analysis.adf_test(data['Suicide rate'])"
   ]
  },
  {
   "cell_type": "code",
   "execution_count": 138,
   "id": "bd0066dc",
   "metadata": {},
   "outputs": [
    {
     "name": "stdout",
     "output_type": "stream",
     "text": [
      "ADF Statistic: -5.420586730191859\n",
      "p-value: 3.0657883922907044e-06\n",
      "Critial Values:\n",
      "   1%, -3.769732625845229\n",
      "Critial Values:\n",
      "   5%, -3.005425537190083\n",
      "Critial Values:\n",
      "   10%, -2.6425009917355373\n",
      "Test conclusion:\n",
      "At the significance level of 1%, the test fails to reject the null hypothesis that there is no unit root. The series is stationary.\n"
     ]
    }
   ],
   "source": [
    "analysis.adf_test(analysis.differencing(data['lyrical mentions percentage'],1))"
   ]
  },
  {
   "cell_type": "code",
   "execution_count": 139,
   "id": "0ee0d6ea",
   "metadata": {},
   "outputs": [
    {
     "name": "stdout",
     "output_type": "stream",
     "text": [
      "ADF Statistic: -2.8574421801122227\n",
      "p-value: 0.050525437139072774\n",
      "Critial Values:\n",
      "   1%, -4.137829282407408\n",
      "Critial Values:\n",
      "   5%, -3.1549724074074077\n",
      "Critial Values:\n",
      "   10%, -2.7144769444444443\n",
      "Test conclusion:\n",
      "At the significance level of 10%, the test fails to reject the null hypothesis that there is no unit root. The series is stationary.\n"
     ]
    }
   ],
   "source": [
    "analysis.adf_test(analysis.differencing(data['Suicide rate'],1))"
   ]
  },
  {
   "cell_type": "code",
   "execution_count": null,
   "id": "75d98fb6",
   "metadata": {},
   "outputs": [],
   "source": []
  }
 ],
 "metadata": {
  "kernelspec": {
   "display_name": "Python 3",
   "language": "python",
   "name": "python3"
  },
  "language_info": {
   "codemirror_mode": {
    "name": "ipython",
    "version": 3
   },
   "file_extension": ".py",
   "mimetype": "text/x-python",
   "name": "python",
   "nbconvert_exporter": "python",
   "pygments_lexer": "ipython3",
   "version": "3.8.8"
  }
 },
 "nbformat": 4,
 "nbformat_minor": 5
}
